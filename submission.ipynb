{
  "nbformat": 4,
  "nbformat_minor": 0,
  "metadata": {
    "accelerator": "GPU",
    "colab": {
      "name": "submission.ipynb",
      "provenance": [],
      "collapsed_sections": []
    },
    "kernelspec": {
      "display_name": "Python 3",
      "name": "python3"
    },
    "language_info": {
      "name": "python"
    }
  },
  "cells": [
    {
      "cell_type": "markdown",
      "metadata": {
        "id": "Tou9s9f43wJM"
      },
      "source": [
        "## 50.021 Artificial Intelligence\n",
        "### Twitter Retweet Prediction\n",
        "#### Submission Notebook\n",
        "#####Noorbakht Khan (1003827)\n",
        "#####Sidharth Praveen (1003647)\n",
        "#####Suhas Sahu (1003370)\n",
        "#####Tiffany Goh (1003674)\n"
      ]
    },
    {
      "cell_type": "markdown",
      "metadata": {
        "id": "OsedI80nG8ZH"
      },
      "source": [
        "### Dataset Formatting"
      ]
    },
    {
      "cell_type": "code",
      "metadata": {
        "colab": {
          "base_uri": "https://localhost:8080/"
        },
        "id": "3Wtiodwl3kfX",
        "outputId": "484a8f36-c459-4a0e-8342-259adf00849c"
      },
      "source": [
        "from google.colab import drive\n",
        "drive.mount('/content/drive')"
      ],
      "execution_count": 19,
      "outputs": [
        {
          "output_type": "stream",
          "text": [
            "Drive already mounted at /content/drive; to attempt to forcibly remount, call drive.mount(\"/content/drive\", force_remount=True).\n"
          ],
          "name": "stdout"
        }
      ]
    },
    {
      "cell_type": "markdown",
      "metadata": {
        "id": "2qXcGwRSHHsf"
      },
      "source": [
        "### Data Visualization"
      ]
    },
    {
      "cell_type": "code",
      "metadata": {
        "id": "zDQ1Y6rXt8f_"
      },
      "source": [
        "%matplotlib inline\n",
        "import pandas as pd\n",
        "import matplotlib.pyplot as plt\n",
        "import seaborn as sns\n",
        "import numpy as np"
      ],
      "execution_count": null,
      "outputs": []
    },
    {
      "cell_type": "code",
      "metadata": {
        "id": "Mcp87_6at_DU"
      },
      "source": [
        "feature_names = [\"tweetId\", \"username\", \"timestamp\", \"#followers\", \"#friends\", \"#retweets\", \"#favorites\", \"entities\", \"sentiment\", \"mentions\", \"hashtags\", \"urls\"]"
      ],
      "execution_count": null,
      "outputs": []
    },
    {
      "cell_type": "code",
      "metadata": {
        "id": "WEEuMU1VuIcO"
      },
      "source": [
        "INPUT_DIR = '/content/drive/MyDrive/ai_submission/data/'"
      ],
      "execution_count": null,
      "outputs": []
    },
    {
      "cell_type": "code",
      "metadata": {
        "id": "OK6YZzwsuJUW"
      },
      "source": [
        "X_train = pd.read_csv(f'{INPUT_DIR}/train.csv', nrows = 100000)\n",
        "X_train.columns = feature_names"
      ],
      "execution_count": null,
      "outputs": []
    },
    {
      "cell_type": "code",
      "metadata": {
        "id": "hJPEXJALuO4i"
      },
      "source": [
        "X_train[\"positive_sentiment\"]=X_train['sentiment'].str.split(\" \").apply(lambda x: int(x[0]))\n",
        "X_train[\"negative_sentiment\"]=X_train['sentiment'].str.split(\" \").apply(lambda x: int(x[1]))"
      ],
      "execution_count": null,
      "outputs": []
    },
    {
      "cell_type": "code",
      "metadata": {
        "colab": {
          "base_uri": "https://localhost:8080/",
          "height": 206
        },
        "id": "L2ZhCIK0uQwE",
        "outputId": "73682ed9-e927-46b3-bf7d-e7cbe87bc6df"
      },
      "source": [
        "X_train.head()"
      ],
      "execution_count": null,
      "outputs": [
        {
          "output_type": "execute_result",
          "data": {
            "text/html": [
              "<div>\n",
              "<style scoped>\n",
              "    .dataframe tbody tr th:only-of-type {\n",
              "        vertical-align: middle;\n",
              "    }\n",
              "\n",
              "    .dataframe tbody tr th {\n",
              "        vertical-align: top;\n",
              "    }\n",
              "\n",
              "    .dataframe thead th {\n",
              "        text-align: right;\n",
              "    }\n",
              "</style>\n",
              "<table border=\"1\" class=\"dataframe\">\n",
              "  <thead>\n",
              "    <tr style=\"text-align: right;\">\n",
              "      <th></th>\n",
              "      <th>tweetId</th>\n",
              "      <th>username</th>\n",
              "      <th>timestamp</th>\n",
              "      <th>#followers</th>\n",
              "      <th>#friends</th>\n",
              "      <th>#retweets</th>\n",
              "      <th>#favorites</th>\n",
              "      <th>entities</th>\n",
              "      <th>sentiment</th>\n",
              "      <th>mentions</th>\n",
              "      <th>hashtags</th>\n",
              "      <th>urls</th>\n",
              "      <th>positive_sentiment</th>\n",
              "      <th>negative_sentiment</th>\n",
              "    </tr>\n",
              "  </thead>\n",
              "  <tbody>\n",
              "    <tr>\n",
              "      <th>0</th>\n",
              "      <td>1252529190278225920</td>\n",
              "      <td>1246dd69a108489e99a18e17ccbdda89</td>\n",
              "      <td>Tue Apr 21 09:26:44 +0000 2020</td>\n",
              "      <td>1066</td>\n",
              "      <td>956</td>\n",
              "      <td>1</td>\n",
              "      <td>1</td>\n",
              "      <td>onefour:Onefour:-1.9201282230056398;</td>\n",
              "      <td>1 -1</td>\n",
              "      <td>_onefour</td>\n",
              "      <td>null;</td>\n",
              "      <td>null;</td>\n",
              "      <td>1</td>\n",
              "      <td>-1</td>\n",
              "    </tr>\n",
              "    <tr>\n",
              "      <th>1</th>\n",
              "      <td>1215120881552384000</td>\n",
              "      <td>ee8757b8b51dfe14734d215ce0261f48</td>\n",
              "      <td>Thu Jan 09 03:59:28 +0000 2020</td>\n",
              "      <td>3559</td>\n",
              "      <td>4433</td>\n",
              "      <td>6</td>\n",
              "      <td>4</td>\n",
              "      <td>pedophile:Pedophilia:-1.5621082604699068;satan...</td>\n",
              "      <td>2 -3</td>\n",
              "      <td>realDonaldTrump</td>\n",
              "      <td>GodBlessAmerica Trump2020</td>\n",
              "      <td>null;</td>\n",
              "      <td>2</td>\n",
              "      <td>-3</td>\n",
              "    </tr>\n",
              "    <tr>\n",
              "      <th>2</th>\n",
              "      <td>1245110259024187393</td>\n",
              "      <td>1d7f59ee4f60e9f20d4a8a1a9f59cfe4</td>\n",
              "      <td>Tue Mar 31 22:06:33 +0000 2020</td>\n",
              "      <td>18394</td>\n",
              "      <td>17352</td>\n",
              "      <td>6</td>\n",
              "      <td>46</td>\n",
              "      <td>climate change:Global_warming:-2.1766696284542...</td>\n",
              "      <td>2 -1</td>\n",
              "      <td>DanRather</td>\n",
              "      <td>null;</td>\n",
              "      <td>null;</td>\n",
              "      <td>2</td>\n",
              "      <td>-1</td>\n",
              "    </tr>\n",
              "    <tr>\n",
              "      <th>3</th>\n",
              "      <td>1214240413189627905</td>\n",
              "      <td>a8fd8cd0b6d2cfda939a8ef257e60192</td>\n",
              "      <td>Mon Jan 06 17:40:48 +0000 2020</td>\n",
              "      <td>85346</td>\n",
              "      <td>6378</td>\n",
              "      <td>0</td>\n",
              "      <td>0</td>\n",
              "      <td>null;</td>\n",
              "      <td>1 -1</td>\n",
              "      <td>null;</td>\n",
              "      <td>null;</td>\n",
              "      <td>https://www.atlassian.com/blog/leadership/what...</td>\n",
              "      <td>1</td>\n",
              "      <td>-1</td>\n",
              "    </tr>\n",
              "    <tr>\n",
              "      <th>4</th>\n",
              "      <td>1210905251919859713</td>\n",
              "      <td>9bedd902dfabeb55e98d729f60c5c1f9</td>\n",
              "      <td>Sat Dec 28 12:48:04 +0000 2019</td>\n",
              "      <td>7967</td>\n",
              "      <td>988</td>\n",
              "      <td>47</td>\n",
              "      <td>109</td>\n",
              "      <td>zlatan ibile:Zlatan_%28musician%29:-1.36273775...</td>\n",
              "      <td>3 -1</td>\n",
              "      <td>Zlatan_Ibile</td>\n",
              "      <td>null;</td>\n",
              "      <td>null;</td>\n",
              "      <td>3</td>\n",
              "      <td>-1</td>\n",
              "    </tr>\n",
              "  </tbody>\n",
              "</table>\n",
              "</div>"
            ],
            "text/plain": [
              "               tweetId  ... negative_sentiment\n",
              "0  1252529190278225920  ...                 -1\n",
              "1  1215120881552384000  ...                 -3\n",
              "2  1245110259024187393  ...                 -1\n",
              "3  1214240413189627905  ...                 -1\n",
              "4  1210905251919859713  ...                 -1\n",
              "\n",
              "[5 rows x 14 columns]"
            ]
          },
          "metadata": {
            "tags": []
          },
          "execution_count": 7
        }
      ]
    },
    {
      "cell_type": "code",
      "metadata": {
        "id": "YcEnaj9VuT0p"
      },
      "source": [
        "import os\n",
        "os.getcwd()\n",
        "os.chdir('/content/drive/MyDrive/ai_submission/')"
      ],
      "execution_count": null,
      "outputs": []
    },
    {
      "cell_type": "code",
      "metadata": {
        "id": "WwZdJJI2uT-H"
      },
      "source": [
        "from plots import plot_correlation_heatmap, plot_histogram, plot_box_plot"
      ],
      "execution_count": null,
      "outputs": []
    },
    {
      "cell_type": "code",
      "metadata": {
        "colab": {
          "base_uri": "https://localhost:8080/"
        },
        "id": "qU0RW7f6wRwT",
        "outputId": "06069fc8-6101-4093-c894-3a12849313da"
      },
      "source": [
        "X_train['#retweets'].describe()"
      ],
      "execution_count": null,
      "outputs": [
        {
          "output_type": "execute_result",
          "data": {
            "text/plain": [
              "count    100000.000000\n",
              "mean         40.985310\n",
              "std         533.904785\n",
              "min           0.000000\n",
              "25%           0.000000\n",
              "50%           0.000000\n",
              "75%           9.000000\n",
              "max       98346.000000\n",
              "Name: #retweets, dtype: float64"
            ]
          },
          "metadata": {
            "tags": []
          },
          "execution_count": 16
        }
      ]
    },
    {
      "cell_type": "code",
      "metadata": {
        "colab": {
          "base_uri": "https://localhost:8080/",
          "height": 366
        },
        "id": "_h7B2F1OuXNf",
        "outputId": "e9a0ce72-f2e4-40cf-9e15-01ecfee6ba8b"
      },
      "source": [
        "plot_histogram(X_train['#retweets'], [0,50], '#Retweets', 'Frequency', '#Retweets Distribution')"
      ],
      "execution_count": null,
      "outputs": [
        {
          "output_type": "display_data",
          "data": {
            "image/png": "[encoded data removed]",
            "text/plain": [
              "<Figure size 720x360 with 1 Axes>"
            ]
          },
          "metadata": {
            "tags": []
          }
        }
      ]
    },
    {
      "cell_type": "code",
      "metadata": {
        "colab": {
          "base_uri": "https://localhost:8080/",
          "height": 401
        },
        "id": "mROI5VrruXUq",
        "outputId": "42f797ab-444c-43a0-d146-3c4f0165e735"
      },
      "source": [
        "df = np.log10(X_train['#followers'])\n",
        "\n",
        "plot_histogram(df, [0,10], 'log(Followers)', 'Frequency', 'Log(Followers) Distribution')"
      ],
      "execution_count": null,
      "outputs": [
        {
          "output_type": "stream",
          "text": [
            "/usr/local/lib/python3.7/dist-packages/pandas/core/series.py:726: RuntimeWarning: divide by zero encountered in log10\n",
            "  result = getattr(ufunc, method)(*inputs, **kwargs)\n"
          ],
          "name": "stderr"
        },
        {
          "output_type": "display_data",
          "data": {
            "image/png": "[encoded data removed]",
            "text/plain": [
              "<Figure size 720x360 with 1 Axes>"
            ]
          },
          "metadata": {
            "tags": []
          }
        }
      ]
    },
    {
      "cell_type": "code",
      "metadata": {
        "colab": {
          "base_uri": "https://localhost:8080/",
          "height": 401
        },
        "id": "u2xtA9ouuXaP",
        "outputId": "2ee19e63-37b6-4b6e-e29a-ba5fa21eab2d"
      },
      "source": [
        "df = np.log10(X_train['#friends'])\n",
        "\n",
        "plot_histogram(df, [0,7], 'log(Friends)', 'Frequency', 'Log(Friends) Distribution')"
      ],
      "execution_count": null,
      "outputs": [
        {
          "output_type": "stream",
          "text": [
            "/usr/local/lib/python3.7/dist-packages/pandas/core/series.py:726: RuntimeWarning: divide by zero encountered in log10\n",
            "  result = getattr(ufunc, method)(*inputs, **kwargs)\n"
          ],
          "name": "stderr"
        },
        {
          "output_type": "display_data",
          "data": {
            "image/png": "[encoded data removed]",
            "text/plain": [
              "<Figure size 720x360 with 1 Axes>"
            ]
          },
          "metadata": {
            "tags": []
          }
        }
      ]
    },
    {
      "cell_type": "code",
      "metadata": {
        "colab": {
          "base_uri": "https://localhost:8080/",
          "height": 401
        },
        "id": "2A9WblyLuf49",
        "outputId": "99dc6333-83f8-435d-98ea-15921256e31f"
      },
      "source": [
        "df = np.log10(X_train['#favorites'])\n",
        "\n",
        "plot_histogram(df, [0,7], 'log(Favorites)', 'Frequency', 'Log(Favorites) Distribution')"
      ],
      "execution_count": null,
      "outputs": [
        {
          "output_type": "stream",
          "text": [
            "/usr/local/lib/python3.7/dist-packages/pandas/core/series.py:726: RuntimeWarning: divide by zero encountered in log10\n",
            "  result = getattr(ufunc, method)(*inputs, **kwargs)\n"
          ],
          "name": "stderr"
        },
        {
          "output_type": "display_data",
          "data": {
            "image/png": "[encoded data removed]",
            "text/plain": [
              "<Figure size 720x360 with 1 Axes>"
            ]
          },
          "metadata": {
            "tags": []
          }
        }
      ]
    },
    {
      "cell_type": "code",
      "metadata": {
        "colab": {
          "base_uri": "https://localhost:8080/",
          "height": 374
        },
        "id": "sleBe_hCum8a",
        "outputId": "27988a08-ab91-4c7c-c878-66dc0c9f96f7"
      },
      "source": [
        " corr_columns=[\"#followers\",\"#friends\",\"#favorites\",\"positive_sentiment\",\"negative_sentiment\",\"#retweets\"]\n",
        " plot_correlation_heatmap(X_train, corr_columns)"
      ],
      "execution_count": null,
      "outputs": [
        {
          "output_type": "display_data",
          "data": {
            "image/png": "[encoded data removed]",
            "text/plain": [
              "<Figure size 432x288 with 2 Axes>"
            ]
          },
          "metadata": {
            "tags": []
          }
        }
      ]
    },
    {
      "cell_type": "code",
      "metadata": {
        "colab": {
          "base_uri": "https://localhost:8080/",
          "height": 393
        },
        "id": "ZmZameBWunFi",
        "outputId": "7490ce6a-90e0-4310-f00f-e32de5f9deed"
      },
      "source": [
        "X_train['#favorites_level'] = X_train['#favorites'].apply(lambda x: 'low' if x<187 else ('medium' if x<568 else 'high'))\n",
        "\n",
        "plot_box_plot(X_train, '#retweets', '#favorites_level', 0, 1000)"
      ],
      "execution_count": null,
      "outputs": [
        {
          "output_type": "display_data",
          "data": {
            "image/png": "[encoded data removed]",
            "text/plain": [
              "<Figure size 720x432 with 1 Axes>"
            ]
          },
          "metadata": {
            "tags": []
          }
        }
      ]
    },
    {
      "cell_type": "markdown",
      "metadata": {
        "id": "YJMECIArHPXE"
      },
      "source": [
        "### Data Preprocessing & Feature Engineering"
      ]
    },
    {
      "cell_type": "code",
      "metadata": {
        "id": "Yvdf7kux4GN3"
      },
      "source": [
        "import os\n",
        "os.getcwd()\n",
        "os.chdir('/content/drive/MyDrive/ai_submission/')"
      ],
      "execution_count": 20,
      "outputs": []
    },
    {
      "cell_type": "code",
      "metadata": {
        "colab": {
          "base_uri": "https://localhost:8080/"
        },
        "id": "YR9vokpP4J1V",
        "outputId": "7e1b4e61-84cb-4b9e-bcf9-227cba6b947d"
      },
      "source": [
        "os.listdir()"
      ],
      "execution_count": null,
      "outputs": [
        {
          "output_type": "execute_result",
          "data": {
            "text/plain": [
              "['data',\n",
              " '__pycache__',\n",
              " 'features',\n",
              " 'preprocess.py',\n",
              " 'utils.py',\n",
              " 'submission.ipynb',\n",
              " 'plots.py']"
            ]
          },
          "metadata": {
            "tags": []
          },
          "execution_count": 4
        }
      ]
    },
    {
      "cell_type": "code",
      "metadata": {
        "id": "fG3zdM6_CCvD"
      },
      "source": [
        "input_dir = '/content/drive/MyDrive/ai_submission/data/'\n",
        "feature_dir = '/content/drive/MyDrive/ai_submission/features/'"
      ],
      "execution_count": 25,
      "outputs": []
    },
    {
      "cell_type": "code",
      "metadata": {
        "id": "ywf7bSdQCNuo"
      },
      "source": [
        "feature_list  = [\"tweetId\", \"username\", \"timestamp\", \"#followers\", \"#friends\", \"#retweets\", \"#favorites\", \"entities\", \"sentiment\", \"mentions\", \"hashtags\", \"urls\"]"
      ],
      "execution_count": 24,
      "outputs": []
    },
    {
      "cell_type": "code",
      "metadata": {
        "id": "Ga_yiG2oLPXS"
      },
      "source": [
        "import pandas as pd\n",
        "X_train = pd.read_csv(f'{input_dir}/train.csv', nrows = 100000)\n",
        "X_train.columns = feature_list\n",
        "\n",
        "X_valid = pd.read_csv(f'{input_dir}/val.csv', nrows = 100000)\n",
        "X_valid.columns = feature_list\n",
        "\n",
        "X_test = pd.read_csv(f'{input_dir}/test.csv', nrows = 100000)\n",
        "X_test.columns = feature_list\n",
        "\n",
        "y_train = pd.read_csv(f'{input_dir}/train_labels.csv', header=None, nrows=100000, skiprows=1).T.values[0].reshape(-1, 1)"
      ],
      "execution_count": 22,
      "outputs": []
    },
    {
      "cell_type": "code",
      "metadata": {
        "colab": {
          "base_uri": "https://localhost:8080/"
        },
        "id": "soy7EhKiLob8",
        "outputId": "cce75cc0-9316-48ca-a96c-a0a8ea714ab8"
      },
      "source": [
        "!pip install xfeat\n",
        "!pip install mlflow\n",
        "!pip install tqdm"
      ],
      "execution_count": 23,
      "outputs": [
        {
          "output_type": "stream",
          "text": [
            "Requirement already satisfied: xfeat in /usr/local/lib/python3.7/dist-packages (0.1.1)\n",
            "Requirement already satisfied: ml-metrics in /usr/local/lib/python3.7/dist-packages (from xfeat) (0.1.4)\n",
            "Requirement already satisfied: PyYAML in /usr/local/lib/python3.7/dist-packages (from xfeat) (5.4.1)\n",
            "Requirement already satisfied: lightgbm in /usr/local/lib/python3.7/dist-packages (from xfeat) (2.2.3)\n",
            "Requirement already satisfied: optuna>=1.3.0 in /usr/local/lib/python3.7/dist-packages (from xfeat) (2.9.1)\n",
            "Requirement already satisfied: pyarrow in /usr/local/lib/python3.7/dist-packages (from xfeat) (3.0.0)\n",
            "Requirement already satisfied: scikit-learn in /usr/local/lib/python3.7/dist-packages (from xfeat) (0.22.2.post1)\n",
            "Requirement already satisfied: colorlog in /usr/local/lib/python3.7/dist-packages (from optuna>=1.3.0->xfeat) (5.0.1)\n",
            "Requirement already satisfied: packaging>=20.0 in /usr/local/lib/python3.7/dist-packages (from optuna>=1.3.0->xfeat) (21.0)\n",
            "Requirement already satisfied: alembic in /usr/local/lib/python3.7/dist-packages (from optuna>=1.3.0->xfeat) (1.4.1)\n",
            "Requirement already satisfied: numpy in /usr/local/lib/python3.7/dist-packages (from optuna>=1.3.0->xfeat) (1.19.5)\n",
            "Requirement already satisfied: scipy!=1.4.0 in /usr/local/lib/python3.7/dist-packages (from optuna>=1.3.0->xfeat) (1.4.1)\n",
            "Requirement already satisfied: tqdm in /usr/local/lib/python3.7/dist-packages (from optuna>=1.3.0->xfeat) (4.41.1)\n",
            "Requirement already satisfied: sqlalchemy>=1.1.0 in /usr/local/lib/python3.7/dist-packages (from optuna>=1.3.0->xfeat) (1.4.20)\n",
            "Requirement already satisfied: cmaes>=0.8.2 in /usr/local/lib/python3.7/dist-packages (from optuna>=1.3.0->xfeat) (0.8.2)\n",
            "Requirement already satisfied: cliff in /usr/local/lib/python3.7/dist-packages (from optuna>=1.3.0->xfeat) (3.8.0)\n",
            "Requirement already satisfied: pyparsing>=2.0.2 in /usr/local/lib/python3.7/dist-packages (from packaging>=20.0->optuna>=1.3.0->xfeat) (2.4.7)\n",
            "Requirement already satisfied: greenlet!=0.4.17 in /usr/local/lib/python3.7/dist-packages (from sqlalchemy>=1.1.0->optuna>=1.3.0->xfeat) (1.1.0)\n",
            "Requirement already satisfied: importlib-metadata in /usr/local/lib/python3.7/dist-packages (from sqlalchemy>=1.1.0->optuna>=1.3.0->xfeat) (4.6.1)\n",
            "Requirement already satisfied: python-editor>=0.3 in /usr/local/lib/python3.7/dist-packages (from alembic->optuna>=1.3.0->xfeat) (1.0.4)\n",
            "Requirement already satisfied: python-dateutil in /usr/local/lib/python3.7/dist-packages (from alembic->optuna>=1.3.0->xfeat) (2.8.1)\n",
            "Requirement already satisfied: Mako in /usr/local/lib/python3.7/dist-packages (from alembic->optuna>=1.3.0->xfeat) (1.1.4)\n",
            "Requirement already satisfied: cmd2>=1.0.0 in /usr/local/lib/python3.7/dist-packages (from cliff->optuna>=1.3.0->xfeat) (2.1.2)\n",
            "Requirement already satisfied: pbr!=2.1.0,>=2.0.0 in /usr/local/lib/python3.7/dist-packages (from cliff->optuna>=1.3.0->xfeat) (5.6.0)\n",
            "Requirement already satisfied: PrettyTable>=0.7.2 in /usr/local/lib/python3.7/dist-packages (from cliff->optuna>=1.3.0->xfeat) (2.1.0)\n",
            "Requirement already satisfied: stevedore>=2.0.1 in /usr/local/lib/python3.7/dist-packages (from cliff->optuna>=1.3.0->xfeat) (3.3.0)\n",
            "Requirement already satisfied: colorama>=0.3.7 in /usr/local/lib/python3.7/dist-packages (from cmd2>=1.0.0->cliff->optuna>=1.3.0->xfeat) (0.4.4)\n",
            "Requirement already satisfied: typing-extensions in /usr/local/lib/python3.7/dist-packages (from cmd2>=1.0.0->cliff->optuna>=1.3.0->xfeat) (3.7.4.3)\n",
            "Requirement already satisfied: wcwidth>=0.1.7 in /usr/local/lib/python3.7/dist-packages (from cmd2>=1.0.0->cliff->optuna>=1.3.0->xfeat) (0.2.5)\n",
            "Requirement already satisfied: attrs>=16.3.0 in /usr/local/lib/python3.7/dist-packages (from cmd2>=1.0.0->cliff->optuna>=1.3.0->xfeat) (21.2.0)\n",
            "Requirement already satisfied: pyperclip>=1.6 in /usr/local/lib/python3.7/dist-packages (from cmd2>=1.0.0->cliff->optuna>=1.3.0->xfeat) (1.8.2)\n",
            "Requirement already satisfied: zipp>=0.5 in /usr/local/lib/python3.7/dist-packages (from importlib-metadata->sqlalchemy>=1.1.0->optuna>=1.3.0->xfeat) (3.5.0)\n",
            "Requirement already satisfied: MarkupSafe>=0.9.2 in /usr/local/lib/python3.7/dist-packages (from Mako->alembic->optuna>=1.3.0->xfeat) (2.0.1)\n",
            "Requirement already satisfied: pandas in /usr/local/lib/python3.7/dist-packages (from ml-metrics->xfeat) (1.1.5)\n",
            "Requirement already satisfied: pytz>=2017.2 in /usr/local/lib/python3.7/dist-packages (from pandas->ml-metrics->xfeat) (2018.9)\n",
            "Requirement already satisfied: six>=1.5 in /usr/local/lib/python3.7/dist-packages (from python-dateutil->alembic->optuna>=1.3.0->xfeat) (1.15.0)\n",
            "Requirement already satisfied: joblib>=0.11 in /usr/local/lib/python3.7/dist-packages (from scikit-learn->xfeat) (1.0.1)\n",
            "Requirement already satisfied: mlflow in /usr/local/lib/python3.7/dist-packages (1.19.0)\n",
            "Requirement already satisfied: pyyaml>=5.1 in /usr/local/lib/python3.7/dist-packages (from mlflow) (5.4.1)\n",
            "Requirement already satisfied: pytz in /usr/local/lib/python3.7/dist-packages (from mlflow) (2018.9)\n",
            "Requirement already satisfied: prometheus-flask-exporter in /usr/local/lib/python3.7/dist-packages (from mlflow) (0.18.2)\n",
            "Requirement already satisfied: sqlparse>=0.3.1 in /usr/local/lib/python3.7/dist-packages (from mlflow) (0.4.1)\n",
            "Requirement already satisfied: docker>=4.0.0 in /usr/local/lib/python3.7/dist-packages (from mlflow) (5.0.0)\n",
            "Requirement already satisfied: pandas in /usr/local/lib/python3.7/dist-packages (from mlflow) (1.1.5)\n",
            "Requirement already satisfied: gitpython>=2.1.0 in /usr/local/lib/python3.7/dist-packages (from mlflow) (3.1.18)\n",
            "Requirement already satisfied: alembic<=1.4.1 in /usr/local/lib/python3.7/dist-packages (from mlflow) (1.4.1)\n",
            "Requirement already satisfied: querystring-parser in /usr/local/lib/python3.7/dist-packages (from mlflow) (1.2.4)\n",
            "Requirement already satisfied: gunicorn in /usr/local/lib/python3.7/dist-packages (from mlflow) (20.1.0)\n",
            "Requirement already satisfied: cloudpickle in /usr/local/lib/python3.7/dist-packages (from mlflow) (1.3.0)\n",
            "Requirement already satisfied: packaging in /usr/local/lib/python3.7/dist-packages (from mlflow) (21.0)\n",
            "Requirement already satisfied: sqlalchemy in /usr/local/lib/python3.7/dist-packages (from mlflow) (1.4.20)\n",
            "Requirement already satisfied: protobuf>=3.7.0 in /usr/local/lib/python3.7/dist-packages (from mlflow) (3.17.3)\n",
            "Requirement already satisfied: Flask in /usr/local/lib/python3.7/dist-packages (from mlflow) (1.1.4)\n",
            "Requirement already satisfied: requests>=2.17.3 in /usr/local/lib/python3.7/dist-packages (from mlflow) (2.23.0)\n",
            "Requirement already satisfied: entrypoints in /usr/local/lib/python3.7/dist-packages (from mlflow) (0.3)\n",
            "Requirement already satisfied: numpy in /usr/local/lib/python3.7/dist-packages (from mlflow) (1.19.5)\n",
            "Requirement already satisfied: click>=7.0 in /usr/local/lib/python3.7/dist-packages (from mlflow) (7.1.2)\n",
            "Requirement already satisfied: databricks-cli>=0.8.7 in /usr/local/lib/python3.7/dist-packages (from mlflow) (0.15.0)\n",
            "Requirement already satisfied: python-editor>=0.3 in /usr/local/lib/python3.7/dist-packages (from alembic<=1.4.1->mlflow) (1.0.4)\n",
            "Requirement already satisfied: Mako in /usr/local/lib/python3.7/dist-packages (from alembic<=1.4.1->mlflow) (1.1.4)\n",
            "Requirement already satisfied: python-dateutil in /usr/local/lib/python3.7/dist-packages (from alembic<=1.4.1->mlflow) (2.8.1)\n",
            "Requirement already satisfied: six>=1.10.0 in /usr/local/lib/python3.7/dist-packages (from databricks-cli>=0.8.7->mlflow) (1.15.0)\n",
            "Requirement already satisfied: tabulate>=0.7.7 in /usr/local/lib/python3.7/dist-packages (from databricks-cli>=0.8.7->mlflow) (0.8.9)\n",
            "Requirement already satisfied: websocket-client>=0.32.0 in /usr/local/lib/python3.7/dist-packages (from docker>=4.0.0->mlflow) (1.1.1)\n",
            "Requirement already satisfied: typing-extensions>=3.7.4.0 in /usr/local/lib/python3.7/dist-packages (from gitpython>=2.1.0->mlflow) (3.7.4.3)\n",
            "Requirement already satisfied: gitdb<5,>=4.0.1 in /usr/local/lib/python3.7/dist-packages (from gitpython>=2.1.0->mlflow) (4.0.7)\n",
            "Requirement already satisfied: smmap<5,>=3.0.1 in /usr/local/lib/python3.7/dist-packages (from gitdb<5,>=4.0.1->gitpython>=2.1.0->mlflow) (4.0.0)\n",
            "Requirement already satisfied: idna<3,>=2.5 in /usr/local/lib/python3.7/dist-packages (from requests>=2.17.3->mlflow) (2.10)\n",
            "Requirement already satisfied: urllib3!=1.25.0,!=1.25.1,<1.26,>=1.21.1 in /usr/local/lib/python3.7/dist-packages (from requests>=2.17.3->mlflow) (1.24.3)\n",
            "Requirement already satisfied: chardet<4,>=3.0.2 in /usr/local/lib/python3.7/dist-packages (from requests>=2.17.3->mlflow) (3.0.4)\n",
            "Requirement already satisfied: certifi>=2017.4.17 in /usr/local/lib/python3.7/dist-packages (from requests>=2.17.3->mlflow) (2021.5.30)\n",
            "Requirement already satisfied: greenlet!=0.4.17 in /usr/local/lib/python3.7/dist-packages (from sqlalchemy->mlflow) (1.1.0)\n",
            "Requirement already satisfied: importlib-metadata in /usr/local/lib/python3.7/dist-packages (from sqlalchemy->mlflow) (4.6.1)\n",
            "Requirement already satisfied: Jinja2<3.0,>=2.10.1 in /usr/local/lib/python3.7/dist-packages (from Flask->mlflow) (2.11.3)\n",
            "Requirement already satisfied: itsdangerous<2.0,>=0.24 in /usr/local/lib/python3.7/dist-packages (from Flask->mlflow) (1.1.0)\n",
            "Requirement already satisfied: Werkzeug<2.0,>=0.15 in /usr/local/lib/python3.7/dist-packages (from Flask->mlflow) (1.0.1)\n",
            "Requirement already satisfied: MarkupSafe>=0.23 in /usr/local/lib/python3.7/dist-packages (from Jinja2<3.0,>=2.10.1->Flask->mlflow) (2.0.1)\n",
            "Requirement already satisfied: setuptools>=3.0 in /usr/local/lib/python3.7/dist-packages (from gunicorn->mlflow) (57.2.0)\n",
            "Requirement already satisfied: zipp>=0.5 in /usr/local/lib/python3.7/dist-packages (from importlib-metadata->sqlalchemy->mlflow) (3.5.0)\n",
            "Requirement already satisfied: pyparsing>=2.0.2 in /usr/local/lib/python3.7/dist-packages (from packaging->mlflow) (2.4.7)\n",
            "Requirement already satisfied: prometheus-client in /usr/local/lib/python3.7/dist-packages (from prometheus-flask-exporter->mlflow) (0.11.0)\n",
            "Requirement already satisfied: tqdm in /usr/local/lib/python3.7/dist-packages (4.41.1)\n"
          ],
          "name": "stdout"
        }
      ]
    },
    {
      "cell_type": "code",
      "metadata": {
        "id": "qwrBPGuzLVp-"
      },
      "source": [
        "from preprocess import init_features, preprocess\n",
        "\n",
        "dense_features, sparse_features, varlen_sparse_features, to_encode_count, to_encode_target,\\\n",
        "         user_stats_features, time_cat_features, time_num_features, tweet_metrics_features, tweet_metrics_log_features,\\\n",
        "              tweet_metrics_bin_features = init_features()"
      ],
      "execution_count": 26,
      "outputs": []
    },
    {
      "cell_type": "code",
      "metadata": {
        "colab": {
          "base_uri": "https://localhost:8080/"
        },
        "id": "YGYobx3uM0PR",
        "outputId": "16956f48-f89a-4e83-b3aa-3905c82e8946"
      },
      "source": [
        "preprocess(feature_dir, X_train, X_valid, X_test, time_cat_features, time_num_features, tweet_metrics_features,\\\n",
        "        tweet_metrics_log_features, tweet_metrics_bin_features, to_encode_count, y_train, to_encode_target, varlen_sparse_features, \\\n",
        "            user_stats_features, dense_features, sparse_features)"
      ],
      "execution_count": null,
      "outputs": [
        {
          "output_type": "stream",
          "text": [
            "Saving [weekday] to -> save_dir ... [/content/drive/MyDrive/ai_submission/features/]\n",
            "Saving [hour] to -> save_dir ... [/content/drive/MyDrive/ai_submission/features/]\n",
            "Saving [day] to -> save_dir ... [/content/drive/MyDrive/ai_submission/features/]\n",
            "Saving [week_of_month] to -> save_dir ... [/content/drive/MyDrive/ai_submission/features/]\n",
            "Saving [diff_from_latest] to -> save_dir ... [/content/drive/MyDrive/ai_submission/features/]\n",
            "Applying log transformation...\n",
            "Applying rank transformation...\n",
            "Performing quantile binning...\n",
            "Saving features...\n",
            "Saving [#followers_qbin_10] to -> save_dir ... [/content/drive/MyDrive/ai_submission/features/]\n",
            "Saving [#friends_qbin_10] to -> save_dir ... [/content/drive/MyDrive/ai_submission/features/]\n",
            "Saving [#favorites_qbin_10] to -> save_dir ... [/content/drive/MyDrive/ai_submission/features/]\n",
            "Saving [#followers__#favorites_qbin_10] to -> save_dir ... [/content/drive/MyDrive/ai_submission/features/]\n",
            "Saving [#friends__#favorites_qbin_10] to -> save_dir ... [/content/drive/MyDrive/ai_submission/features/]\n",
            "Saving [#followers__#friends__#favorites_qbin_10] to -> save_dir ... [/content/drive/MyDrive/ai_submission/features/]\n",
            "Splitting sentiments...\n",
            "Preprocessing entities...\n",
            "Preprocessing varlen features...\n",
            "Extracting TFIDF for varlen features...\n",
            "Encoding count and target of the features...\n"
          ],
          "name": "stdout"
        },
        {
          "output_type": "stream",
          "text": [
            "  2%|▏         | 5573/300000 [00:00<00:05, 55723.28it/s]"
          ],
          "name": "stderr"
        },
        {
          "output_type": "stream",
          "text": [
            "Creating user-modelling features...\n"
          ],
          "name": "stdout"
        },
        {
          "output_type": "stream",
          "text": [
            "100%|██████████| 300000/300000 [00:05<00:00, 57108.78it/s]\n",
            "100%|██████████| 245131/245131 [27:37<00:00, 147.93it/s]\n",
            "100%|██████████| 245131/245131 [07:37<00:00, 536.11it/s]\n",
            "100%|██████████| 245131/245131 [04:47<00:00, 851.17it/s]\n",
            "/content/drive/My Drive/ai_submission/preprocess.py:712: SettingWithCopyWarning:\n",
            "\n",
            "\n",
            "A value is trying to be set on a copy of a slice from a DataFrame.\n",
            "Try using .loc[row_indexer,col_indexer] = value instead\n",
            "\n",
            "See the caveats in the documentation: https://pandas.pydata.org/pandas-docs/stable/user_guide/indexing.html#returning-a-view-versus-a-copy\n",
            "\n"
          ],
          "name": "stderr"
        },
        {
          "output_type": "stream",
          "text": [
            "#followers - MMS Scaling > max: 81250729, min: 0\n",
            "Saving [#followers] to -> save_dir ... [/content/drive/MyDrive/ai_submission/features/]\n",
            "#friends - MMS Scaling > max: 1887712, min: 0\n",
            "Saving [#friends] to -> save_dir ... [/content/drive/MyDrive/ai_submission/features/]\n",
            "#favorites - MMS Scaling > max: 788160, min: 0\n",
            "Saving [#favorites] to -> save_dir ... [/content/drive/MyDrive/ai_submission/features/]\n",
            "#followers__#favorites - MMS Scaling > max: 14198809863162, min: 0\n",
            "Saving [#followers__#favorites] to -> save_dir ... [/content/drive/MyDrive/ai_submission/features/]\n",
            "#friends__#favorites - MMS Scaling > max: 12831780819, min: 0\n",
            "Saving [#friends__#favorites] to -> save_dir ... [/content/drive/MyDrive/ai_submission/features/]\n",
            "#followers__#friends__#favorites - MMS Scaling > max: 205093421644774320, min: 0\n",
            "Saving [#followers__#friends__#favorites] to -> save_dir ... [/content/drive/MyDrive/ai_submission/features/]\n",
            "#followers_log - MMS Scaling > max: 18.213050363749144, min: 0.0\n",
            "Saving [#followers_log] to -> save_dir ... [/content/drive/MyDrive/ai_submission/features/]\n",
            "#friends_log - MMS Scaling > max: 14.450876601420616, min: 0.0\n",
            "Saving [#friends_log] to -> save_dir ... [/content/drive/MyDrive/ai_submission/features/]\n",
            "#favorites_log - MMS Scaling > max: 13.577457662691419, min: 0.0\n",
            "Saving [#favorites_log] to -> save_dir ... [/content/drive/MyDrive/ai_submission/features/]\n",
            "#followers__#favorites_log - MMS Scaling > max: 30.284179264569993, min: 0.0\n",
            "Saving [#followers__#favorites_log] to -> save_dir ... [/content/drive/MyDrive/ai_submission/features/]\n",
            "#friends__#favorites_log - MMS Scaling > max: 23.27519080718903, min: 0.0\n",
            "Saving [#friends__#favorites_log] to -> save_dir ... [/content/drive/MyDrive/ai_submission/features/]\n",
            "#followers__#friends__#favorites_log - MMS Scaling > max: 39.862241985582756, min: 0.0\n",
            "Saving [#followers__#friends__#favorites_log] to -> save_dir ... [/content/drive/MyDrive/ai_submission/features/]\n",
            "#followers_rank - MMS Scaling > max: 300000.0, min: 1.0\n",
            "Saving [#followers_rank] to -> save_dir ... [/content/drive/MyDrive/ai_submission/features/]\n",
            "#friends_rank - MMS Scaling > max: 300000.0, min: 1.0\n",
            "Saving [#friends_rank] to -> save_dir ... [/content/drive/MyDrive/ai_submission/features/]\n",
            "#favorites_rank - MMS Scaling > max: 300000.0, min: 1.0\n",
            "Saving [#favorites_rank] to -> save_dir ... [/content/drive/MyDrive/ai_submission/features/]\n",
            "#followers__#favorites_rank - MMS Scaling > max: 300000.0, min: 1.0\n",
            "Saving [#followers__#favorites_rank] to -> save_dir ... [/content/drive/MyDrive/ai_submission/features/]\n",
            "#friends__#favorites_rank - MMS Scaling > max: 300000.0, min: 1.0\n",
            "Saving [#friends__#favorites_rank] to -> save_dir ... [/content/drive/MyDrive/ai_submission/features/]\n",
            "#followers__#friends__#favorites_rank - MMS Scaling > max: 300000.0, min: 1.0\n",
            "Saving [#followers__#friends__#favorites_rank] to -> save_dir ... [/content/drive/MyDrive/ai_submission/features/]\n",
            "diff_from_latest - MMS Scaling > max: 86399, min: 0\n",
            "Saving [diff_from_latest] to -> save_dir ... [/content/drive/MyDrive/ai_submission/features/]\n",
            "sentiment_pos_ce - MMS Scaling > max: 56587, min: 54\n",
            "Saving [sentiment_pos_ce] to -> save_dir ... [/content/drive/MyDrive/ai_submission/features/]\n",
            "sentiment_neg_ce - MMS Scaling > max: 66906, min: 432\n",
            "Saving [sentiment_neg_ce] to -> save_dir ... [/content/drive/MyDrive/ai_submission/features/]\n",
            "weekday_ce - MMS Scaling > max: 15227, min: 13006\n",
            "Saving [weekday_ce] to -> save_dir ... [/content/drive/MyDrive/ai_submission/features/]\n",
            "hour_ce - MMS Scaling > max: 5596, min: 2781\n",
            "Saving [hour_ce] to -> save_dir ... [/content/drive/MyDrive/ai_submission/features/]\n",
            "day_ce - MMS Scaling > max: 3961, min: 2195\n",
            "Saving [day_ce] to -> save_dir ... [/content/drive/MyDrive/ai_submission/features/]\n",
            "week_of_month_ce - MMS Scaling > max: 24556, min: 3146\n",
            "Saving [week_of_month_ce] to -> save_dir ... [/content/drive/MyDrive/ai_submission/features/]\n",
            "username_te - MMS Scaling > max: 0.9343581795692444, min: 0.0\n",
            "Saving [username_te] to -> save_dir ... [/content/drive/MyDrive/ai_submission/features/]\n",
            "sentiment_pos_te - MMS Scaling > max: 0.12831981480121613, min: 0.10587519407272339\n",
            "Saving [sentiment_pos_te] to -> save_dir ... [/content/drive/MyDrive/ai_submission/features/]\n",
            "sentiment_neg_te - MMS Scaling > max: 0.12799431383609772, min: 0.09990918636322021\n",
            "Saving [sentiment_neg_te] to -> save_dir ... [/content/drive/MyDrive/ai_submission/features/]\n",
            "weekday_te - MMS Scaling > max: 0.11400425434112549, min: 0.10876699537038803\n",
            "Saving [weekday_te] to -> save_dir ... [/content/drive/MyDrive/ai_submission/features/]\n",
            "hour_te - MMS Scaling > max: 0.12605004012584686, min: 0.10339038074016571\n",
            "Saving [hour_te] to -> save_dir ... [/content/drive/MyDrive/ai_submission/features/]\n",
            "day_te - MMS Scaling > max: 0.12460919469594955, min: 0.10148172080516815\n",
            "Saving [day_te] to -> save_dir ... [/content/drive/MyDrive/ai_submission/features/]\n",
            "week_of_month_te - MMS Scaling > max: 0.11973145604133606, min: 0.10961179435253143\n",
            "Saving [week_of_month_te] to -> save_dir ... [/content/drive/MyDrive/ai_submission/features/]\n",
            "#followers_qbin_10_te - MMS Scaling > max: 0.2922077178955078, min: 0.017670724540948868\n",
            "Saving [#followers_qbin_10_te] to -> save_dir ... [/content/drive/MyDrive/ai_submission/features/]\n",
            "#friends_qbin_10_te - MMS Scaling > max: 0.2009989470243454, min: 0.0747898519039154\n",
            "Saving [#friends_qbin_10_te] to -> save_dir ... [/content/drive/MyDrive/ai_submission/features/]\n",
            "#favorites_qbin_10_te - MMS Scaling > max: 0.4284678101539612, min: 0.009509418159723282\n",
            "Saving [#favorites_qbin_10_te] to -> save_dir ... [/content/drive/MyDrive/ai_submission/features/]\n",
            "#followers__#favorites_qbin_10_te - MMS Scaling > max: 0.38189175724983215, min: 0.01075334195047617\n",
            "Saving [#followers__#favorites_qbin_10_te] to -> save_dir ... [/content/drive/MyDrive/ai_submission/features/]\n",
            "TFIDF_svd_0 - MMS Scaling > max: 0.9806316432986469, min: -6.1221596958012e-14\n",
            "Saving [TFIDF_svd_0] to -> save_dir ... [/content/drive/MyDrive/ai_submission/features/]\n",
            "TFIDF_svd_1 - MMS Scaling > max: 0.9971656980610062, min: -0.06722540738856701\n",
            "Saving [TFIDF_svd_1] to -> save_dir ... [/content/drive/MyDrive/ai_submission/features/]\n",
            "TFIDF_svd_2 - MMS Scaling > max: 0.6624198456507716, min: -0.0871720696964345\n",
            "Saving [TFIDF_svd_2] to -> save_dir ... [/content/drive/MyDrive/ai_submission/features/]\n",
            "TFIDF_svd_3 - MMS Scaling > max: 0.8423360133934936, min: -0.2944003339185227\n",
            "Saving [TFIDF_svd_3] to -> save_dir ... [/content/drive/MyDrive/ai_submission/features/]\n",
            "TFIDF_svd_4 - MMS Scaling > max: 0.9868495423933272, min: -0.046575710759989244\n",
            "Saving [TFIDF_svd_4] to -> save_dir ... [/content/drive/MyDrive/ai_submission/features/]\n",
            "entities_ce - MMS Scaling > max: 85300, min: 0\n",
            "Saving [entities_ce] to -> save_dir ... [/content/drive/MyDrive/ai_submission/features/]\n",
            "mentions_ce - MMS Scaling > max: 4438, min: 0\n",
            "Saving [mentions_ce] to -> save_dir ... [/content/drive/MyDrive/ai_submission/features/]\n",
            "hashtags_ce - MMS Scaling > max: 16310, min: 0\n",
            "Saving [hashtags_ce] to -> save_dir ... [/content/drive/MyDrive/ai_submission/features/]\n",
            "urls_ce - MMS Scaling > max: 20, min: 0\n",
            "Saving [urls_ce] to -> save_dir ... [/content/drive/MyDrive/ai_submission/features/]\n",
            "entities_te - MMS Scaling > max: 3.3072453635400487, min: 0.0\n",
            "Saving [entities_te] to -> save_dir ... [/content/drive/MyDrive/ai_submission/features/]\n",
            "mentions_te - MMS Scaling > max: 22.60430975652858, min: 0.0\n",
            "Saving [mentions_te] to -> save_dir ... [/content/drive/MyDrive/ai_submission/features/]\n",
            "hashtags_te - MMS Scaling > max: 4.95758493145931, min: 0.0\n",
            "Saving [hashtags_te] to -> save_dir ... [/content/drive/MyDrive/ai_submission/features/]\n",
            "urls_te - MMS Scaling > max: 0.7260457350624633, min: 0.0\n",
            "Saving [urls_te] to -> save_dir ... [/content/drive/MyDrive/ai_submission/features/]\n",
            "inday_fol_increase - MMS Scaling > max: 342960.0, min: -42590.0\n",
            "Saving [inday_fol_increase] to -> save_dir ... [/content/drive/MyDrive/ai_submission/features/]\n",
            "prevday_fol_increase - MMS Scaling > max: 2562756.0, min: -1367870.0\n",
            "Saving [prevday_fol_increase] to -> save_dir ... [/content/drive/MyDrive/ai_submission/features/]\n",
            "inweek_fol_increase - MMS Scaling > max: 1411224.0, min: -37350.0\n",
            "Saving [inweek_fol_increase] to -> save_dir ... [/content/drive/MyDrive/ai_submission/features/]\n",
            "prevweek_fol_increase - MMS Scaling > max: 2562756.0, min: -140304.0\n",
            "Saving [prevweek_fol_increase] to -> save_dir ... [/content/drive/MyDrive/ai_submission/features/]\n",
            "inday_fri_increase - MMS Scaling > max: 3597.0, min: -1464.0\n",
            "Saving [inday_fri_increase] to -> save_dir ... [/content/drive/MyDrive/ai_submission/features/]\n",
            "prevday_fri_increase - MMS Scaling > max: 159020.0, min: -166590.0\n",
            "Saving [prevday_fri_increase] to -> save_dir ... [/content/drive/MyDrive/ai_submission/features/]\n",
            "inweek_fri_increase - MMS Scaling > max: 26534.0, min: -53751.0\n",
            "Saving [inweek_fri_increase] to -> save_dir ... [/content/drive/MyDrive/ai_submission/features/]\n",
            "prevweek_fri_increase - MMS Scaling > max: 159020.0, min: -166590.0\n",
            "Saving [prevweek_fri_increase] to -> save_dir ... [/content/drive/MyDrive/ai_submission/features/]\n",
            "user_follow_mean - MMS Scaling > max: 72294052.33333333, min: 0.0\n",
            "Saving [user_follow_mean] to -> save_dir ... [/content/drive/MyDrive/ai_submission/features/]\n",
            "user_follow_std - MMS Scaling > max: 1957769.5, min: 0.0\n",
            "Saving [user_follow_std] to -> save_dir ... [/content/drive/MyDrive/ai_submission/features/]\n",
            "user_friend_mean - MMS Scaling > max: 1843440.3333333333, min: 0.0\n",
            "Saving [user_friend_mean] to -> save_dir ... [/content/drive/MyDrive/ai_submission/features/]\n",
            "user_friend_std - MMS Scaling > max: 69990.88792255388, min: 0.0\n",
            "Saving [user_friend_std] to -> save_dir ... [/content/drive/MyDrive/ai_submission/features/]\n",
            "user_favorite_mean - MMS Scaling > max: 277961.0, min: 0.0\n",
            "Saving [user_favorite_mean] to -> save_dir ... [/content/drive/MyDrive/ai_submission/features/]\n",
            "user_favorite_std - MMS Scaling > max: 82604.14787103611, min: 0.0\n",
            "Saving [user_favorite_std] to -> save_dir ... [/content/drive/MyDrive/ai_submission/features/]\n",
            "user_entities_unique - MMS Scaling > max: 284.0, min: 0.0\n",
            "Saving [user_entities_unique] to -> save_dir ... [/content/drive/MyDrive/ai_submission/features/]\n",
            "user_mentions_unique - MMS Scaling > max: 182.0, min: 0.0\n",
            "Saving [user_mentions_unique] to -> save_dir ... [/content/drive/MyDrive/ai_submission/features/]\n",
            "user_hashtags_unique - MMS Scaling > max: 107.0, min: 0.0\n",
            "Saving [user_hashtags_unique] to -> save_dir ... [/content/drive/MyDrive/ai_submission/features/]\n",
            "user_urls_unique - MMS Scaling > max: 214.0, min: 0.0\n",
            "Saving [user_urls_unique] to -> save_dir ... [/content/drive/MyDrive/ai_submission/features/]\n",
            "username - Num. of use as low frequency category: 221294\n",
            "username - Num. of unique category: 23839\n",
            "Saving [username] to -> save_dir ... [/content/drive/MyDrive/ai_submission/features/]\n",
            "Saving [sentiment_pos] to -> save_dir ... [/content/drive/MyDrive/ai_submission/features/]\n",
            "Saving [sentiment_neg] to -> save_dir ... [/content/drive/MyDrive/ai_submission/features/]\n",
            "Saving [#followers_qbin_10] to -> save_dir ... [/content/drive/MyDrive/ai_submission/features/]\n",
            "Saving [#friends_qbin_10] to -> save_dir ... [/content/drive/MyDrive/ai_submission/features/]\n",
            "Saving [#favorites_qbin_10] to -> save_dir ... [/content/drive/MyDrive/ai_submission/features/]\n",
            "Saving [#followers__#favorites_qbin_10] to -> save_dir ... [/content/drive/MyDrive/ai_submission/features/]\n",
            "Saving [#friends__#favorites_qbin_10] to -> save_dir ... [/content/drive/MyDrive/ai_submission/features/]\n",
            "Saving [#followers__#friends__#favorites_qbin_10] to -> save_dir ... [/content/drive/MyDrive/ai_submission/features/]\n",
            "Saving [weekday] to -> save_dir ... [/content/drive/MyDrive/ai_submission/features/]\n",
            "Saving [hour] to -> save_dir ... [/content/drive/MyDrive/ai_submission/features/]\n",
            "Saving [day] to -> save_dir ... [/content/drive/MyDrive/ai_submission/features/]\n",
            "Saving [week_of_month] to -> save_dir ... [/content/drive/MyDrive/ai_submission/features/]\n",
            "Saving [entities_count] to -> save_dir ... [/content/drive/MyDrive/ai_submission/features/]\n",
            "Saving [mentions_count] to -> save_dir ... [/content/drive/MyDrive/ai_submission/features/]\n",
            "Saving [hashtags_count] to -> save_dir ... [/content/drive/MyDrive/ai_submission/features/]\n",
            "Saving [urls_count] to -> save_dir ... [/content/drive/MyDrive/ai_submission/features/]\n",
            "Saving [user_stats_cluster_1000] to -> save_dir ... [/content/drive/MyDrive/ai_submission/features/]\n",
            "Saving [user_topic_cluster_1000] to -> save_dir ... [/content/drive/MyDrive/ai_submission/features/]\n",
            "Saving [user_stats_topic_cluster_1000] to -> save_dir ... [/content/drive/MyDrive/ai_submission/features/]\n",
            "entities - Num. of use as low frequency category: 37438\n",
            "entities - Num. of unique category: 29842\n",
            "Saving [entities] to -> save_dir ... [/content/drive/MyDrive/ai_submission/features/]\n",
            "mentions - Num. of use as low frequency category: 136425\n",
            "mentions - Num. of unique category: 34585\n",
            "Saving [mentions] to -> save_dir ... [/content/drive/MyDrive/ai_submission/features/]\n",
            "hashtags - Num. of use as low frequency category: 68920\n",
            "hashtags - Num. of unique category: 19754\n",
            "Saving [hashtags] to -> save_dir ... [/content/drive/MyDrive/ai_submission/features/]\n",
            "urls - Num. of use as low frequency category: 69229\n",
            "urls - Num. of unique category: 1824\n",
            "Saving [urls] to -> save_dir ... [/content/drive/MyDrive/ai_submission/features/]\n"
          ],
          "name": "stdout"
        }
      ]
    },
    {
      "cell_type": "markdown",
      "metadata": {
        "id": "LFrusth0HVvD"
      },
      "source": [
        "### Model Training"
      ]
    },
    {
      "cell_type": "code",
      "metadata": {
        "colab": {
          "base_uri": "https://localhost:8080/"
        },
        "id": "d07qAMSqOT6n",
        "outputId": "ea2023d8-3a17-4a8b-e6f8-d56faed61ab2"
      },
      "source": [
        "from train import extract_saved_features\n",
        "\n",
        "y_train = pd.read_csv(f'{input_dir}/train_labels.csv', header=None, nrows=100000, skiprows=1).T.values[0].reshape(-1, 1)\n",
        "\n",
        "X_train, X_valid, X_test, unique_num_dic, feature_index, scaler, y_train =\\\n",
        "  extract_saved_features(dense_features, sparse_features, varlen_sparse_features, feature_dir, 5, y_train)"
      ],
      "execution_count": null,
      "outputs": [
        {
          "output_type": "stream",
          "text": [
            "username\n",
            "sentiment_pos\n",
            "sentiment_neg\n",
            "#followers_qbin_10\n",
            "#friends_qbin_10\n",
            "#favorites_qbin_10\n",
            "#followers__#favorites_qbin_10\n",
            "#friends__#favorites_qbin_10\n",
            "#followers__#friends__#favorites_qbin_10\n",
            "weekday\n",
            "hour\n",
            "day\n",
            "week_of_month\n",
            "entities_count\n",
            "mentions_count\n",
            "hashtags_count\n",
            "urls_count\n",
            "user_stats_cluster_1000\n",
            "user_topic_cluster_1000\n",
            "user_stats_topic_cluster_1000\n"
          ],
          "name": "stdout"
        }
      ]
    },
    {
      "cell_type": "code",
      "metadata": {
        "id": "TEZUTWo0xULk"
      },
      "source": [
        "varlen_sparse_features = []\n",
        "FOLD_DIR = '/content/drive/MyDrive/ai_submission/fold'\n",
        "SAVE_DIR = '/content/drive/MyDrive/ai_submission/save'"
      ],
      "execution_count": 27,
      "outputs": []
    },
    {
      "cell_type": "code",
      "metadata": {
        "colab": {
          "background_save": true,
          "base_uri": "https://localhost:8080/"
        },
        "id": "J_TSQNQwxYQd",
        "outputId": "5b9b4002-cbf4-4a81-fb1b-50c4f168c02b"
      },
      "source": [
        "from train import train\n",
        "import torch\n",
        "\n",
        "fold_best_scores, run_id = train(FOLD_DIR, SAVE_DIR, X_train, y_train, feature_index, unique_num_dic, scaler, batch_size=512, learning_rate=0.001, epochs=5, device=torch.device('cpu'), label_log_scaling=True,\\\n",
        "    sparse_features=sparse_features, dense_features=dense_features, varlen_sparse_features=varlen_sparse_features)"
      ],
      "execution_count": null,
      "outputs": [
        {
          "output_type": "stream",
          "text": [
            "Training for Fold 0\n",
            "Epoch 0/5\n"
          ],
          "name": "stdout"
        },
        {
          "output_type": "stream",
          "text": [
            "100%|██████████| 176/176 [01:30<00:00,  1.95it/s]\n",
            "  0%|          | 0/176 [00:00<?, ?it/s]"
          ],
          "name": "stderr"
        },
        {
          "output_type": "stream",
          "text": [
            "Epoch 1/5\n"
          ],
          "name": "stdout"
        },
        {
          "output_type": "stream",
          "text": [
            "100%|██████████| 176/176 [01:27<00:00,  2.00it/s]\n",
            "  0%|          | 0/176 [00:00<?, ?it/s]"
          ],
          "name": "stderr"
        },
        {
          "output_type": "stream",
          "text": [
            "Epoch 2/5\n"
          ],
          "name": "stdout"
        },
        {
          "output_type": "stream",
          "text": [
            "100%|██████████| 176/176 [01:31<00:00,  1.93it/s]\n",
            "  0%|          | 0/176 [00:00<?, ?it/s]"
          ],
          "name": "stderr"
        },
        {
          "output_type": "stream",
          "text": [
            "Epoch 3/5\n"
          ],
          "name": "stdout"
        },
        {
          "output_type": "stream",
          "text": [
            "100%|██████████| 176/176 [01:29<00:00,  1.97it/s]\n",
            "  0%|          | 0/176 [00:00<?, ?it/s]"
          ],
          "name": "stderr"
        },
        {
          "output_type": "stream",
          "text": [
            "Epoch 4/5\n"
          ],
          "name": "stdout"
        },
        {
          "output_type": "stream",
          "text": [
            "100%|██████████| 176/176 [01:30<00:00,  1.95it/s]\n"
          ],
          "name": "stderr"
        },
        {
          "output_type": "stream",
          "text": [
            "Training for Fold 1\n",
            "Epoch 0/5\n"
          ],
          "name": "stdout"
        },
        {
          "output_type": "stream",
          "text": [
            "100%|██████████| 176/176 [01:30<00:00,  1.93it/s]\n",
            "  0%|          | 0/176 [00:00<?, ?it/s]"
          ],
          "name": "stderr"
        },
        {
          "output_type": "stream",
          "text": [
            "Epoch 1/5\n"
          ],
          "name": "stdout"
        },
        {
          "output_type": "stream",
          "text": [
            "100%|██████████| 176/176 [01:31<00:00,  1.92it/s]\n",
            "  0%|          | 0/176 [00:00<?, ?it/s]"
          ],
          "name": "stderr"
        },
        {
          "output_type": "stream",
          "text": [
            "Epoch 2/5\n"
          ],
          "name": "stdout"
        },
        {
          "output_type": "stream",
          "text": [
            "100%|██████████| 176/176 [01:33<00:00,  1.88it/s]\n",
            "  0%|          | 0/176 [00:00<?, ?it/s]"
          ],
          "name": "stderr"
        },
        {
          "output_type": "stream",
          "text": [
            "Epoch 3/5\n"
          ],
          "name": "stdout"
        },
        {
          "output_type": "stream",
          "text": [
            "100%|██████████| 176/176 [01:29<00:00,  1.96it/s]\n",
            "  0%|          | 0/176 [00:00<?, ?it/s]"
          ],
          "name": "stderr"
        },
        {
          "output_type": "stream",
          "text": [
            "Epoch 4/5\n"
          ],
          "name": "stdout"
        },
        {
          "output_type": "stream",
          "text": [
            "100%|██████████| 176/176 [01:32<00:00,  1.89it/s]\n"
          ],
          "name": "stderr"
        },
        {
          "output_type": "stream",
          "text": [
            "Training for Fold 2\n"
          ],
          "name": "stdout"
        },
        {
          "output_type": "stream",
          "text": [
            "100%|██████████| 177/177 [01:32<00:00,  1.91it/s]\n",
            "  0%|          | 0/177 [00:00<?, ?it/s]"
          ],
          "name": "stderr"
        },
        {
          "output_type": "stream",
          "text": [
            "Epoch 0/5\n",
            "Epoch 1/5\n"
          ],
          "name": "stdout"
        },
        {
          "output_type": "stream",
          "text": [
            "100%|██████████| 177/177 [01:30<00:00,  1.97it/s]\n",
            "  0%|          | 0/177 [00:00<?, ?it/s]"
          ],
          "name": "stderr"
        },
        {
          "output_type": "stream",
          "text": [
            "Epoch 2/5\n"
          ],
          "name": "stdout"
        },
        {
          "output_type": "stream",
          "text": [
            "100%|██████████| 177/177 [01:29<00:00,  1.97it/s]\n",
            "  0%|          | 0/177 [00:00<?, ?it/s]"
          ],
          "name": "stderr"
        },
        {
          "output_type": "stream",
          "text": [
            "Epoch 3/5\n"
          ],
          "name": "stdout"
        },
        {
          "output_type": "stream",
          "text": [
            "100%|██████████| 177/177 [01:30<00:00,  1.95it/s]\n",
            "  0%|          | 0/177 [00:00<?, ?it/s]"
          ],
          "name": "stderr"
        },
        {
          "output_type": "stream",
          "text": [
            "Epoch 4/5\n"
          ],
          "name": "stdout"
        },
        {
          "output_type": "stream",
          "text": [
            "100%|██████████| 177/177 [01:30<00:00,  1.95it/s]\n"
          ],
          "name": "stderr"
        },
        {
          "output_type": "stream",
          "text": [
            "Training for Fold 3\n"
          ],
          "name": "stdout"
        },
        {
          "output_type": "stream",
          "text": [
            "\r  0%|          | 0/177 [00:00<?, ?it/s]"
          ],
          "name": "stderr"
        },
        {
          "output_type": "stream",
          "text": [
            "Epoch 0/5\n"
          ],
          "name": "stdout"
        },
        {
          "output_type": "stream",
          "text": [
            "100%|██████████| 177/177 [01:30<00:00,  1.95it/s]\n",
            "  0%|          | 0/177 [00:00<?, ?it/s]"
          ],
          "name": "stderr"
        },
        {
          "output_type": "stream",
          "text": [
            "Epoch 1/5\n"
          ],
          "name": "stdout"
        },
        {
          "output_type": "stream",
          "text": [
            "100%|██████████| 177/177 [01:30<00:00,  1.97it/s]\n",
            "  0%|          | 0/177 [00:00<?, ?it/s]"
          ],
          "name": "stderr"
        },
        {
          "output_type": "stream",
          "text": [
            "Epoch 2/5\n"
          ],
          "name": "stdout"
        },
        {
          "output_type": "stream",
          "text": [
            "100%|██████████| 177/177 [01:30<00:00,  1.96it/s]\n",
            "  0%|          | 0/177 [00:00<?, ?it/s]"
          ],
          "name": "stderr"
        },
        {
          "output_type": "stream",
          "text": [
            "Epoch 3/5\n"
          ],
          "name": "stdout"
        },
        {
          "output_type": "stream",
          "text": [
            "100%|██████████| 177/177 [01:31<00:00,  1.93it/s]\n",
            "  0%|          | 0/177 [00:00<?, ?it/s]"
          ],
          "name": "stderr"
        },
        {
          "output_type": "stream",
          "text": [
            "Epoch 4/5\n"
          ],
          "name": "stdout"
        },
        {
          "output_type": "stream",
          "text": [
            "100%|██████████| 177/177 [01:29<00:00,  1.98it/s]\n"
          ],
          "name": "stderr"
        },
        {
          "output_type": "stream",
          "text": [
            "Training for Fold 4\n",
            "Epoch 0/5\n"
          ],
          "name": "stdout"
        },
        {
          "output_type": "stream",
          "text": [
            "100%|██████████| 176/176 [01:29<00:00,  1.96it/s]\n",
            "  0%|          | 0/176 [00:00<?, ?it/s]"
          ],
          "name": "stderr"
        },
        {
          "output_type": "stream",
          "text": [
            "Epoch 1/5\n"
          ],
          "name": "stdout"
        },
        {
          "output_type": "stream",
          "text": [
            "100%|██████████| 176/176 [01:30<00:00,  1.95it/s]\n",
            "  0%|          | 0/176 [00:00<?, ?it/s]"
          ],
          "name": "stderr"
        },
        {
          "output_type": "stream",
          "text": [
            "Epoch 2/5\n"
          ],
          "name": "stdout"
        },
        {
          "output_type": "stream",
          "text": [
            "100%|██████████| 176/176 [01:29<00:00,  1.97it/s]\n",
            "  0%|          | 0/176 [00:00<?, ?it/s]"
          ],
          "name": "stderr"
        },
        {
          "output_type": "stream",
          "text": [
            "Epoch 3/5\n"
          ],
          "name": "stdout"
        },
        {
          "output_type": "stream",
          "text": [
            "100%|██████████| 176/176 [01:27<00:00,  2.01it/s]\n",
            "  0%|          | 0/176 [00:00<?, ?it/s]"
          ],
          "name": "stderr"
        },
        {
          "output_type": "stream",
          "text": [
            "Epoch 4/5\n"
          ],
          "name": "stdout"
        },
        {
          "output_type": "stream",
          "text": [
            "100%|██████████| 176/176 [01:29<00:00,  1.97it/s]\n"
          ],
          "name": "stderr"
        }
      ]
    },
    {
      "cell_type": "code",
      "metadata": {
        "id": "Ec0g3-rdxgQt"
      },
      "source": [
        "from train import predict"
      ],
      "execution_count": 28,
      "outputs": []
    },
    {
      "cell_type": "code",
      "metadata": {
        "id": "70VnpLUqxvUb"
      },
      "source": [
        "folds = pd.read_csv(f'{FOLD_DIR}/train_folds_1month_5fold10_RS45.csv', nrows=100000)"
      ],
      "execution_count": 29,
      "outputs": []
    },
    {
      "cell_type": "code",
      "metadata": {
        "id": "-k1omCUA84TT"
      },
      "source": [
        "run_id = '2dbad13188ee490ca2014a6cbe0e64f5'\n",
        "fold_best_scores = {0: (0.2790325765610199,\n",
        "  '/content/drive/MyDrive/ai_submission/save/model/train_weights_mlflow-2dbad13188ee490ca2014a6cbe0e64f5_fold0.h5'),\n",
        " 1: (0.2747456689833666,\n",
        "  '/content/drive/MyDrive/ai_submission/save/model/train_weights_mlflow-2dbad13188ee490ca2014a6cbe0e64f5_fold1.h5'),\n",
        " 2: (0.2760519013162225,\n",
        "  '/content/drive/MyDrive/ai_submission/save/model/train_weights_mlflow-2dbad13188ee490ca2014a6cbe0e64f5_fold2.h5'),\n",
        " 3: (0.292361800574023,\n",
        "  '/content/drive/MyDrive/ai_submission/save/model/train_weights_mlflow-2dbad13188ee490ca2014a6cbe0e64f5_fold3.h5'),\n",
        " 4: (0.2917307979186951,\n",
        "  '/content/drive/MyDrive/ai_submission/save/model/train_weights_mlflow-2dbad13188ee490ca2014a6cbe0e64f5_fold4.h5')}"
      ],
      "execution_count": 30,
      "outputs": []
    },
    {
      "cell_type": "code",
      "metadata": {
        "id": "UTdW0tiJyyvp"
      },
      "source": [
        "predict(run_id, fold_best_scores, feature_index, unique_num_dic, folds, X_train,\\\n",
        "        X_valid, X_test, batch_size=512, sparse_features=sparse_features, \\\n",
        "        dense_features=dense_features, varlen_sparse_features=varlen_sparse_features, \\\n",
        "        FOLD_NUM = 5, SAVE_DIR=SAVE_DIR)"
      ],
      "execution_count": null,
      "outputs": []
    },
    {
      "cell_type": "code",
      "metadata": {
        "id": "JMMCKoFcx6Dq"
      },
      "source": [
        "from plots import plot_graph"
      ],
      "execution_count": 32,
      "outputs": []
    },
    {
      "cell_type": "code",
      "metadata": {
        "id": "AMdWzPN9yZOK"
      },
      "source": [
        "loss_data_file = pd.read_csv(f'{SAVE_DIR}/model/loss_history-{run_id}_fold{4}.csv')"
      ],
      "execution_count": 40,
      "outputs": []
    },
    {
      "cell_type": "code",
      "metadata": {
        "id": "C14-QddBx8eJ",
        "colab": {
          "base_uri": "https://localhost:8080/",
          "height": 454
        },
        "outputId": "b11a6da0-39da-45cf-a7ec-7ddcbf6a7162"
      },
      "source": [
        "plot_graph(loss_data_file, 5, model = 'model')"
      ],
      "execution_count": 41,
      "outputs": [
        {
          "output_type": "display_data",
          "data": {
            "image/png": "[encoded data removed]",
            "text/plain": [
              "<Figure size 864x432 with 2 Axes>"
            ]
          },
          "metadata": {
            "tags": [],
            "needs_background": "light"
          }
        },
        {
          "output_type": "stream",
          "text": [
            "plot saved as modelmodel_graph.png\n",
            "\n",
            "\n"
          ],
          "name": "stdout"
        }
      ]
    },
    {
      "cell_type": "code",
      "metadata": {
        "id": "cLtcdI6CyzzR"
      },
      "source": [
        "import pandas as pd\n",
        "run_id = '1b73f84eeee64eb3ac71789f5ce5783c'\n",
        "x = pd.read_csv(f'{SAVE_DIR}/predict/preds_train_val_{run_id}.csv')"
      ],
      "execution_count": 50,
      "outputs": []
    },
    {
      "cell_type": "code",
      "metadata": {
        "id": "TayGSXfZy2EH",
        "colab": {
          "base_uri": "https://localhost:8080/",
          "height": 203
        },
        "outputId": "d2a1f401-d4df-489a-b446-712eeaf4b58e"
      },
      "source": [
        "x.head()"
      ],
      "execution_count": 51,
      "outputs": [
        {
          "output_type": "execute_result",
          "data": {
            "text/html": [
              "<div>\n",
              "<style scoped>\n",
              "    .dataframe tbody tr th:only-of-type {\n",
              "        vertical-align: middle;\n",
              "    }\n",
              "\n",
              "    .dataframe tbody tr th {\n",
              "        vertical-align: top;\n",
              "    }\n",
              "\n",
              "    .dataframe thead th {\n",
              "        text-align: right;\n",
              "    }\n",
              "</style>\n",
              "<table border=\"1\" class=\"dataframe\">\n",
              "  <thead>\n",
              "    <tr style=\"text-align: right;\">\n",
              "      <th></th>\n",
              "      <th>0.0</th>\n",
              "    </tr>\n",
              "  </thead>\n",
              "  <tbody>\n",
              "    <tr>\n",
              "      <th>0</th>\n",
              "      <td>0.000000</td>\n",
              "    </tr>\n",
              "    <tr>\n",
              "      <th>1</th>\n",
              "      <td>0.000000</td>\n",
              "    </tr>\n",
              "    <tr>\n",
              "      <th>2</th>\n",
              "      <td>0.010284</td>\n",
              "    </tr>\n",
              "    <tr>\n",
              "      <th>3</th>\n",
              "      <td>0.000000</td>\n",
              "    </tr>\n",
              "    <tr>\n",
              "      <th>4</th>\n",
              "      <td>0.007077</td>\n",
              "    </tr>\n",
              "  </tbody>\n",
              "</table>\n",
              "</div>"
            ],
            "text/plain": [
              "        0.0\n",
              "0  0.000000\n",
              "1  0.000000\n",
              "2  0.010284\n",
              "3  0.000000\n",
              "4  0.007077"
            ]
          },
          "metadata": {
            "tags": []
          },
          "execution_count": 51
        }
      ]
    },
    {
      "cell_type": "markdown",
      "metadata": {
        "id": "qzKHDqlK-ODa"
      },
      "source": [
        "Shown above, is the head of the dataframe for the prediction. The values represent the prediction (in log)."
      ]
    }
  ]
}